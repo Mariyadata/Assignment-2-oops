{
 "cells": [
  {
   "cell_type": "code",
   "execution_count": null,
   "id": "368f6e98-accf-4a91-b002-47f8ac25bd2c",
   "metadata": {},
   "outputs": [],
   "source": [
    "In Python, a constructor is a special method within a class that is automatically called when a new instance of the class is created. Constructors are defined using the __init__() method. The purpose of a constructor is to initialize the object's attributes or perform any necessary setup when an instance of the class is created."
   ]
  },
  {
   "cell_type": "code",
   "execution_count": null,
   "id": "b720f66c-1329-46e2-bdd5-b1db502bdfb7",
   "metadata": {},
   "outputs": [],
   "source": [
    "Parameterless Constructor:\n",
    "A parameterless constructor, also known as a default constructor, is a constructor that doesn't accept any parameters.\n",
    "It is defined without any parameters inside the class.\n",
    "This constructor is automatically called when an instance of the class is created, without providing any arguments.\n",
    "It is used when the object doesn't require any initial setup or when default values can be used for object attributes.\n",
    "Parameterized Constructor:\n",
    "A parameterized constructor is a constructor that accepts one or more parameters.\n",
    "It is defined with parameters inside the class.\n",
    "This constructor is called with the provided arguments when an instance of the class is created.\n",
    "It is used when the object requires specific initial values for its attributes or when customization is needed during object creation."
   ]
  },
  {
   "cell_type": "code",
   "execution_count": 4,
   "id": "85b6fd53-527e-4bb9-af3c-37d5f3aead70",
   "metadata": {},
   "outputs": [
    {
     "name": "stdout",
     "output_type": "stream",
     "text": [
      "John\n",
      "30\n"
     ]
    }
   ],
   "source": [
    "class Person:\n",
    "    def __init__(self, name, age):\n",
    "        self.name = name\n",
    "        self.age = age\n",
    "\n",
    "\n",
    "person1 = Person(\"John\", 30)\n",
    "\n",
    "print(person1.name)  \n",
    "print(person1.age)   \n"
   ]
  },
  {
   "cell_type": "code",
   "execution_count": 3,
   "id": "9628bab7-5e7e-4be5-9022-a30639cad203",
   "metadata": {},
   "outputs": [],
   "source": [
    "In Python, you define a constructor within a class using a special method called __init__(). \n",
    "class MyClass:\n",
    "    def __init__(self, parameter1, parameter2):\n",
    "     \n",
    "        self.attribute1 = parameter1\n",
    "        self.attribute2 = parameter2\n",
    "\n",
    "\n",
    "my_object = MyClass(\"value1\", \"value2\")\n"
   ]
  },
  {
   "cell_type": "code",
   "execution_count": null,
   "id": "04e3792e-3bcf-40f8-b541-34b649d7b60d",
   "metadata": {},
   "outputs": [],
   "source": [
    "In Python, the __init__ method is a special method used for initializing newly created objects. It is commonly referred to as the constructor method because it is automatically called when a new instance of a class is created. The name __init__ stands for \"initialize\".\n",
    "\n",
    "The role of the __init__ method in constructors is to initialize the object's attributes or perform any necessary setup tasks required for the object to be in a valid state. It is typically where you define initial values for attributes based on parameters passed to the constructor.\n",
    "\n",
    "Key points about the __init__ method and its role in constructors:\n",
    "\n",
    "Initialization: The primary purpose of the __init__ method is to initialize object attributes. You can assign initial values to object attributes using parameters passed to the constructor."
   ]
  },
  {
   "cell_type": "code",
   "execution_count": 4,
   "id": "27bf4ee5-01d6-4df6-93ca-bbdf9ab1d9eb",
   "metadata": {},
   "outputs": [
    {
     "name": "stdout",
     "output_type": "stream",
     "text": [
      "John\n",
      "30\n"
     ]
    }
   ],
   "source": [
    "class Person:\n",
    "    def __init__(self, name, age):\n",
    "        self.name = name\n",
    "        self.age = age\n",
    "\n",
    "\n",
    "person1 = Person(\"John\", 30)\n",
    "\n",
    "print(person1.name)  \n",
    "print(person1.age)   \n"
   ]
  },
  {
   "cell_type": "code",
   "execution_count": null,
   "id": "599c2337-0d26-4087-92a7-131e23728a35",
   "metadata": {},
   "outputs": [],
   "source": [
    "In Python, you typically don't call the constructor explicitly. Instead, it is automatically called when you create an instance of a class using the class name followed by parentheses containing any necessary arguments. However, if you really need to call the constructor explicitly, you can do so by using the class name followed by .__init__() and passing the necessary arguments.\n",
    "class Person:\n",
    "    def __init__(self, name, age):\n",
    "        self.name = name\n",
    "        self.age = age\n",
    "\n",
    "\n",
    "person1 = Person.__init__(\"John\", 30)\n",
    "\n",
    "\n",
    "print(person1)  \n"
   ]
  },
  {
   "cell_type": "code",
   "execution_count": null,
   "id": "807acdcf-ad8d-440a-b2af-07e9047e4807",
   "metadata": {},
   "outputs": [],
   "source": [
    "In Python, the self parameter in constructors (and in other instance methods) is a reference to the current instance of the class. It allows you to access and manipulate the attributes and methods of the object within the class. The self parameter must always be the first parameter in any method definition within a class.\n",
    "\n",
    "The significance of the self parameter in constructors is to differentiate between instance variables (attributes) and local variables within the scope of the method. It ensures that when you create multiple instances of the class, each instance maintains its own set of attributes."
   ]
  },
  {
   "cell_type": "code",
   "execution_count": 7,
   "id": "b7cb419f-5ad0-48b6-b80c-1de77cc7b101",
   "metadata": {},
   "outputs": [
    {
     "name": "stdout",
     "output_type": "stream",
     "text": [
      "Name: John\n",
      "Age: 30\n",
      "\n",
      "Name: Alice\n",
      "Age: 25\n"
     ]
    }
   ],
   "source": [
    "class Person:\n",
    "    def __init__(self, name, age):\n",
    "        self.name = name\n",
    "        self.age = age   \n",
    "\n",
    "    def display_info(self):\n",
    "        print(\"Name:\", self.name)\n",
    "        print(\"Age:\", self.age)\n",
    "\n",
    "person1 = Person(\"John\", 30)\n",
    "person2 = Person(\"Alice\", 25)\n",
    "\n",
    "\n",
    "person1.display_info()\n",
    "print() \n",
    "person2.display_info()\n",
    "\n"
   ]
  },
  {
   "cell_type": "code",
   "execution_count": null,
   "id": "37c80088-f44c-4ea1-8b86-fa4f80f672a8",
   "metadata": {},
   "outputs": [],
   "source": [
    "In Python, there's no concept of default constructors in the same way as in some other programming languages like Java or C++. However, you can achieve similar behavior by providing default parameter values in the constructor's signature.\n",
    "\n",
    "Default constructors are typically used when you want to initialize objects with default values if no arguments are provided during object creation. This can be useful in scenarios where you want to provide flexibility in object initialization but also want to have sensible defaults if specific values are not provided.\n",
    "Default constructors are used to provide convenience and flexibility in object initialization, making the code more readable and concise, especially when there are multiple parameters with sensible default values."
   ]
  },
  {
   "cell_type": "code",
   "execution_count": 8,
   "id": "dcc2896f-442b-49ae-8d83-4e171dcaa8fe",
   "metadata": {},
   "outputs": [
    {
     "name": "stdout",
     "output_type": "stream",
     "text": [
      "Area of the rectangle: 50\n"
     ]
    }
   ],
   "source": [
    "class Rectangle:\n",
    "    def __init__(self, width, height):\n",
    "        self.width = width\n",
    "        self.height = height\n",
    "\n",
    "    def calculate_area(self):\n",
    "        return self.width * self.height\n",
    "\n",
    "\n",
    "rectangle1 = Rectangle(5, 10)\n",
    "\n",
    "area = rectangle1.calculate_area()\n",
    "\n",
    "\n",
    "print(\"Area of the rectangle:\", area)\n"
   ]
  },
  {
   "cell_type": "code",
   "execution_count": null,
   "id": "f32c9b94-2a1f-4b2d-b920-c056b16f685d",
   "metadata": {},
   "outputs": [],
   "source": [
    "In Python, you can't have multiple constructors in the same way as some other programming languages like Java or C++. However, you can achieve similar behavior by using default parameter values or by using class methods as alternative constructors.\n",
    "class Rectangle:\n",
    "    def __init__(self, width=None, height=None):\n",
    "        if width is not None and height is not None:\n",
    "            self.width = width\n",
    "            self.height = height\n",
    "        else:\n",
    "            self.width = 0\n",
    "            self.height = 0\n",
    "\n",
    "\n",
    "rectangle1 = Rectangle()          \n",
    "rectangle2 = Rectangle(5, 10)  "
   ]
  },
  {
   "cell_type": "code",
   "execution_count": null,
   "id": "f4e914df-c24a-4877-be62-74afe7b9f3a9",
   "metadata": {},
   "outputs": [],
   "source": [
    "In Python, method overloading refers to the ability to define multiple methods with the same name but with different parameter lists within a class. The behavior of the method can vary depending on the parameters it receives. Unlike some other programming languages like Java or C++, Python doesn't support method overloading in the traditional sense because it doesn't allow you to define multiple methods with the same name but different parameter types or numbers directly.\n",
    "\n",
    "However, you can achieve similar functionality through default parameter values or by using variable-length argument lists (*args and **kwargs). This approach allows a single method to handle different numbers or types of arguments.\n",
    "\n",
    "Now, regarding constructors in Python:\n",
    "\n",
    "Constructor overloading is not directly supported in Python, as Python classes can only have one constructor, which is defined by the __init__() method. However, you can achieve similar behavior by using default parameter values or class methods "
   ]
  },
  {
   "cell_type": "code",
   "execution_count": null,
   "id": "9dd64bf6-269e-4578-a5d7-721ad0cfaf60",
   "metadata": {},
   "outputs": [],
   "source": [
    "In Python, the super() function is used to call methods and access attributes from the parent class within a subclass. It allows you to invoke the constructor or any other method defined in the parent class from the child class. This is particularly useful when you want to extend the functionality of the parent class in the child class while retaining the behavior of the parent class.\n",
    "\n",
    "In the context of constructors, super() can be used to call the constructor of the parent class explicitly from the constructor of the child class. This ensures that the initialization logic defined in the parent class is executed before any additional initialization logic in the child class."
   ]
  },
  {
   "cell_type": "code",
   "execution_count": null,
   "id": "84b0c95e-7d43-499b-9665-fefad4821196",
   "metadata": {},
   "outputs": [],
   "source": [
    "class Book:\n",
    "    def __init__(self, title, author, published_year):\n",
    "        self.title = title\n",
    "        self.author = author\n",
    "        self.published_year = published_year\n",
    "\n",
    "    def display_details(self):\n",
    "        print(\"Title:\", self.title)\n",
    "        print(\"Author:\", self.author)\n",
    "        print(\"Published Year:\", self.published_year)\n",
    "\n",
    "book1 = Book(\"Python Programming\", \"John Smith\", 2020)\n",
    "book1.display_details()\n"
   ]
  },
  {
   "cell_type": "code",
   "execution_count": null,
   "id": "d8d6f4cf-257f-4dc6-ab8c-7f7f3d017752",
   "metadata": {},
   "outputs": [],
   "source": [
    "Constructor:\n",
    "\n",
    "A constructor is a special method in a class that is automatically called when a new instance of the class is created.\n",
    "In Python, the constructor method is named __init__() and is used to initialize the object's attributes.\n",
    "It is used to set up the initial state of the object, typically by initializing attributes with values provided as arguments during object creation.\n",
    "The constructor is invoked automatically upon object creation and does not need to be explicitly called by the programmer.\n",
    "The constructor is defined using the def __init__(self, ...), where self is a reference to the instance of the class being initialized.\n",
    "Regular Method:\n",
    "\n",
    "A regular method in a class is any method other than the constructor.\n",
    "Regular methods perform actions or operations on objects of the class and can access and modify object attributes.\n",
    "Regular methods must be explicitly called by the programmer using the syntax object.method() or class_name.method().\n",
    "Regular methods can have any name other than __init__(), and they can take any number of parameters, including self.\n",
    "Regular methods are defined using the def keyword within the class definition."
   ]
  },
  {
   "cell_type": "code",
   "execution_count": null,
   "id": "d4489d89-c71c-44d9-8978-3f327b36d42f",
   "metadata": {},
   "outputs": [],
   "source": [
    "In Python, the self parameter in a constructor plays a crucial role in instance variable initialization. The self parameter represents the current instance of the class and is used to access and modify instance variables (attributes) within the class. When you define a constructor (__init__ method) in a class, you must include self as the first parameter to reference the instance being created.\n",
    "\n",
    "Here's how the self parameter is used in instance variable initialization within a constructor:\n",
    "\n",
    "Accessing Instance Variables:\n",
    "\n",
    "Inside the constructor, self is used to access instance variables and other methods of the class. For example, self.attribute_name is used to access an instance variable named attribute_name.\n",
    "Initializing Instance Variables:\n",
    "\n",
    "Instance variables are initialized within the constructor using self. When you want to set the initial value of an instance variable, you use self.variable_name = initial_value within the constructor.\n",
    "Instance-specific Initialization:\n",
    "\n",
    "Since self refers to the current instance of the class, instance variables initialized using self are specific to each instance of the class. This ensures that each object has its own copy of the instance variables."
   ]
  },
  {
   "cell_type": "code",
   "execution_count": null,
   "id": "534ca19a-54af-40d4-9745-572cfe2c7619",
   "metadata": {},
   "outputs": [],
   "source": [
    "In Python, you can prevent a class from having multiple instances by implementing the Singleton design pattern. The Singleton pattern ensures that a class has only one instance and provides a global point of access to that instance.\n",
    "\n",
    "To achieve this in Python, you can use a class attribute to store the single instance of the class and modify the constructor to return the existing instance if it has already been created"
   ]
  },
  {
   "cell_type": "code",
   "execution_count": null,
   "id": "eca1c364-c849-41d6-bbbf-b20d10b4b8c6",
   "metadata": {},
   "outputs": [],
   "source": [
    "class Student:\n",
    "    def __init__(self, subjects):\n",
    "        self.subjects = subjects\n",
    "\n",
    "\n",
    "student1 = Student([\"Math\", \"Science\", \"History\"])\n",
    "\n",
    "\n",
    "print(\"Subjects of student1:\", student1.subjects)\n"
   ]
  },
  {
   "cell_type": "code",
   "execution_count": null,
   "id": "f58666b9-cc78-4218-96b9-8fd4eb9172c0",
   "metadata": {},
   "outputs": [],
   "source": [
    "In Python, the __del__ method is a special method used to define the behavior of an object when it is about to be destroyed or deallocated. It is known as the destructor method. The __del__ method is automatically called just before the object is garbage collected, i.e., when there are no more references to the object.\n",
    "\n",
    "The purpose of the __del__ method is to perform any necessary cleanup or resource releasing operations before the object is removed from memory. This can include closing files, releasing database connections, or releasing any other external resources held by the object.\n",
    "\n",
    "The __del__ method is related to constructors (__init__ method) in the sense that it provides a counterpart to the initialization process. While the constructor is responsible for initializing the object's state when it is created, the __del__ method allows you to define the cleanup operations that should be performed when the object is destroyed."
   ]
  },
  {
   "cell_type": "code",
   "execution_count": null,
   "id": "4481ec25-0f85-4fc6-8d38-2130764ffc12",
   "metadata": {},
   "outputs": [],
   "source": [
    "Constructor chaining, also known as constructor delegation or constructor forwarding, refers to the ability to call one constructor from another constructor within the same class. This allows for code reuse and helps avoid duplication of initialization logic.\n",
    "\n",
    "In Python, constructor chaining is achieved by using the super() function to call the constructor of the parent class. This ensures that the initialization logic defined in the parent class's constructor is executed before the initialization logic in the current class's constructor.\n",
    "\n",
    "\n",
    "\n",
    "class Parent:\n",
    "    def __init__(self, name):\n",
    "        self.name = name\n",
    "        print(\"Parent constructor\")\n",
    "\n",
    "class Child(Parent):\n",
    "    def __init__(self, name, age):\n",
    "        super().__init__(name)  \n",
    "        self.age = age\n",
    "        print(\"Child constructor\")\n",
    "\n",
    "\n",
    "child_obj = Child(\"John\", 30)\n",
    "\n",
    "print(\"Name:\", child_obj.name)\n",
    "print(\"Age:\", child_obj.age)\n"
   ]
  },
  {
   "cell_type": "code",
   "execution_count": null,
   "id": "d6b37665-d2a2-4aa7-bb9a-79069fa9adf1",
   "metadata": {},
   "outputs": [],
   "source": [
    "class Car:\n",
    "    def __init__(self, make=\"Unknown\", model=\"Unknown\"):\n",
    "        self.make = make\n",
    "        self.model = model\n",
    "\n",
    "    def display_info(self):\n",
    "        print(\"Make:\", self.make)\n",
    "        print(\"Model:\", self.model)\n",
    "\n",
    "\n",
    "car1 = Car()\n",
    "\n",
    "\n",
    "car1.display_info()\n"
   ]
  },
  {
   "cell_type": "code",
   "execution_count": null,
   "id": "f216a00b-2fb5-4675-a749-655a1e727ed2",
   "metadata": {},
   "outputs": [],
   "source": [
    "nheritance in Python is a fundamental concept of object-oriented programming (OOP) that allows a class (called a child or subclass) to inherit attributes and methods from another class (called a parent or superclass). The child class can then extend or modify the behavior of the parent class while inheriting its functionality. Inheritance promotes code reuse and facilitates the creation of hierarchies of classes with shared characteristics and behaviors.\n",
    "\n",
    "Here are some key points about inheritance in Python and its significance in object-oriented programming:\n",
    "\n",
    "Base Class and Derived Class: Inheritance involves defining a base class (or superclass) and creating one or more derived classes (or subclasses) that inherit from the base class. The derived class inherits all the attributes and methods of the base class.\n",
    "\n",
    "Code Reusability: Inheritance promotes code reuse by allowing subclasses to inherit existing functionality from their parent classes. This reduces code duplication and makes it easier to maintain and extend the codebase.\n",
    "\n",
    "Extensibility: Subclasses can extend or modify the behavior of their parent classes by adding new attributes or methods, overriding existing methods, or providing additional functionality.\n",
    "\n",
    "Hierarchical Structure: Inheritance facilitates the creation of hierarchical class structures, where classes are organized in a parent-child relationship based on their similarities and differences. This hierarchical structure helps in modeling real-world entities more effectively.\n",
    "\n",
    "Polymorphism: Inheritance supports polymorphism, which allows objects of different classes to be treated as objects of a common parent class. This enables more flexible and modular code by allowing functions and methods to operate on objects of different types through a common interface.\n",
    "\n",
    "Encapsulation: Inheritance is closely related to encapsulation, another key principle of OOP. Encapsulation refers to the bundling of data (attributes) and methods (behavior) within a class, and inheritance allows subclasses to access and manipulate this encapsulated data and behavior."
   ]
  },
  {
   "cell_type": "code",
   "execution_count": null,
   "id": "118ee37e-088c-447d-8b35-46167a3cf4b2",
   "metadata": {},
   "outputs": [],
   "source": [
    "Single Inheritance:\n",
    "Single inheritance refers to the situation where a subclass inherits from only one superclass.\n",
    "In single inheritance, the subclass inherits all the attributes and methods of its single superclass.\n",
    "Single inheritance promotes a simple and linear class hierarchy.\n",
    "\n",
    "Multiple Inheritance:\n",
    "Multiple inheritance refers to the situation where a subclass inherits from more than one superclass.\n",
    "In multiple inheritance, the subclass inherits attributes and methods from all of its parent classes.\n",
    "Multiple inheritance allows for more complex class hierarchies but can lead to ambiguity or confusion if not used carefully."
   ]
  },
  {
   "cell_type": "code",
   "execution_count": null,
   "id": "8f5ecb74-fc04-4b72-b129-d813d3386c85",
   "metadata": {},
   "outputs": [],
   "source": [
    "class Vehicle:\n",
    "    def __init__(self, color, speed):\n",
    "        self.color = color\n",
    "        self.speed = speed\n",
    "\n",
    "class Car(Vehicle):\n",
    "    def __init__(self, color, speed, brand):\n",
    "        super().__init__(color, speed)\n",
    "        self.brand = brand\n",
    "    \n",
    "car = Car(\"Red\", 100, \"Toyota\")\n",
    "\n",
    "print(\"Color:\", car.color)\n",
    "print(\"Speed:\", car.speed)\n",
    "print(\"Brand:\", car.brand)\n"
   ]
  },
  {
   "cell_type": "code",
   "execution_count": null,
   "id": "8f79dead-c53c-48a2-a4cf-65150b6d0258",
   "metadata": {},
   "outputs": [],
   "source": [
    "Method overriding is a concept in inheritance where a subclass provides a specific implementation of a method that is already defined in its superclass. This allows the subclass to customize or extend the behavior of the inherited method without modifying the superclass's implementation. Method overriding is achieved by defining a method in the subclass with the same name, parameters, and return type as the method in the superclass.\n",
    "\n",
    "Here's how method overriding works:\n",
    "\n",
    "When a method is called on an object of the subclass, the Python interpreter first looks for that method in the subclass.\n",
    "If the method is found in the subclass, the subclass's implementation is executed.\n",
    "If the method is not found in the subclass, the Python interpreter looks for it in the superclass and executes the superclass's implementation.\n",
    "Method overriding is significant because it allows for polymorphic behavior, where objects of different subclasses can respond to the same method call differently based on their specific implementations."
   ]
  },
  {
   "cell_type": "code",
   "execution_count": null,
   "id": "eecc8b82-bb62-4510-b6c7-01eca1aacd17",
   "metadata": {},
   "outputs": [],
   "source": [
    "In Python, you can access the methods and attributes of a parent class from a child class using the super() function or by directly referencing the parent class. The super() function provides a convenient way to call methods and access attributes of the parent class without explicitly naming the parent class."
   ]
  },
  {
   "cell_type": "code",
   "execution_count": null,
   "id": "6dbe47d8-4d2c-411f-b578-f5dbe950563e",
   "metadata": {},
   "outputs": [],
   "source": [
    "In Python, the super() function is used in inheritance to call methods and access attributes of the parent class (superclass) from a child class (subclass). It provides a way to delegate method calls to the parent class, allowing for code reuse and enabling cooperative multiple inheritance.\n",
    "\n",
    "The super() function is particularly useful in situations where you want to invoke the parent class's method within the overridden method of the child class, ensuring that both the child and parent class implementations are executed. This promotes maintainability and facilitates overriding methods in subclasses while retaining the behavior of the superclass.\n",
    "\n",
    "Here's a breakdown of when and why super() is used in Python inheritance:\n",
    "\n",
    "Calling Parent Class Constructors: In a child class's constructor, super().__init__() is commonly used to call the constructor of the parent class. This ensures that the initialization logic defined in the parent class is executed before the child class's initialization logic.\n",
    "\n",
    "Invoking Parent Class Methods: Inside a method of the child class, super().method_name() is used to call the corresponding method of the parent class. This allows the child class to extend or modify the behavior of the parent class method while still invoking the parent class's implementation.\n",
    "\n",
    "Cooperative Multiple Inheritance: When dealing with multiple inheritance, super() helps resolve method resolution order (MRO) conflicts by providing a consistent way to call methods of the parent classes."
   ]
  },
  {
   "cell_type": "code",
   "execution_count": null,
   "id": "50f2e520-061a-4948-899e-567481feaa9d",
   "metadata": {},
   "outputs": [],
   "source": [
    "class Animal:\n",
    "    def speak(self):\n",
    "        raise NotImplementedError(\"Subclass must implement abstract method\")\n",
    "\n",
    "\n",
    "class Dog(Animal):\n",
    "    def speak(self):\n",
    "        return \"Woof!\"\n",
    "\n",
    "\n",
    "class Cat(Animal):\n",
    "    def speak(self):\n",
    "        return \"Meow!\"\n",
    "\n",
    "if __name__ == \"__main__\":\n",
    "    dog = Dog()\n",
    "    cat = Cat()\n",
    "\n",
    "    print(\"Dog says:\", dog.speak())\n",
    "    print(\"Cat says:\", cat.speak())\n"
   ]
  },
  {
   "cell_type": "code",
   "execution_count": null,
   "id": "b6a0be10-b738-44ee-a995-d9992b3d43de",
   "metadata": {},
   "outputs": [],
   "source": []
  },
  {
   "cell_type": "code",
   "execution_count": null,
   "id": "cbcd777e-92cc-4197-9a2f-c38ab24da9b7",
   "metadata": {},
   "outputs": [],
   "source": []
  },
  {
   "cell_type": "code",
   "execution_count": null,
   "id": "f4337e98-e098-410d-9c3c-70089618e01e",
   "metadata": {},
   "outputs": [],
   "source": []
  },
  {
   "cell_type": "code",
   "execution_count": null,
   "id": "c47a50ab-e954-4252-9801-a5208f38f20b",
   "metadata": {},
   "outputs": [],
   "source": []
  }
 ],
 "metadata": {
  "kernelspec": {
   "display_name": "Python 3 (ipykernel)",
   "language": "python",
   "name": "python3"
  },
  "language_info": {
   "codemirror_mode": {
    "name": "ipython",
    "version": 3
   },
   "file_extension": ".py",
   "mimetype": "text/x-python",
   "name": "python",
   "nbconvert_exporter": "python",
   "pygments_lexer": "ipython3",
   "version": "3.10.8"
  }
 },
 "nbformat": 4,
 "nbformat_minor": 5
}
